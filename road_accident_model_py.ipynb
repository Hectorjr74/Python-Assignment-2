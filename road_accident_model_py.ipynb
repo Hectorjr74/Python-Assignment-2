{
  "nbformat": 4,
  "nbformat_minor": 0,
  "metadata": {
    "colab": {
      "provenance": [],
      "authorship_tag": "ABX9TyPWeghxrTBBvUIb/zCqT/Ro",
      "include_colab_link": true
    },
    "kernelspec": {
      "name": "python3",
      "display_name": "Python 3"
    },
    "language_info": {
      "name": "python"
    }
  },
  "cells": [
    {
      "cell_type": "markdown",
      "metadata": {
        "id": "view-in-github",
        "colab_type": "text"
      },
      "source": [
        "<a href=\"https://colab.research.google.com/github/Hectorjr74/Python-Assignment-2/blob/main/road_accident_model_py.ipynb\" target=\"_parent\"><img src=\"https://colab.research.google.com/assets/colab-badge.svg\" alt=\"Open In Colab\"/></a>"
      ]
    },
    {
      "cell_type": "code",
      "source": [
        "import pickle\n",
        "import pandas as pd\n",
        "import statsmodels.api as sm\n",
        "\n",
        "with open('accident_model.pkl', 'rb') as f:\n",
        "    model = pickle.load(f)\n",
        "\n",
        "hypothetical = pd.DataFrame({'const': 1, 'speed': 80, 'alcohol': 1, 'road_condition': 1,\n",
        "                             'time_night': 1, 'helmet': 0, 'weather_bad': 1}, index=[0])\n",
        "pred = model.predict(hypothetical)[0]\n",
        "print(f\"Predicted severity: {pred}\")"
      ],
      "metadata": {
        "colab": {
          "base_uri": "https://localhost:8080/"
        },
        "id": "yKyqd_fOJ2eX",
        "outputId": "850e896f-5da6-4569-afd4-7a358759b736"
      },
      "execution_count": 7,
      "outputs": [
        {
          "output_type": "stream",
          "name": "stdout",
          "text": [
            "Predicted severity: 10.325282144629782\n"
          ]
        }
      ]
    }
  ]
}